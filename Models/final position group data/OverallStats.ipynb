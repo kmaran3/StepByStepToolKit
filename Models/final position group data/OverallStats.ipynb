{
 "cells": [
  {
   "cell_type": "code",
   "execution_count": 1,
   "metadata": {},
   "outputs": [
    {
     "data": {
      "text/plain": [
       "Index(['Unnamed: 0', 'player_id', 'season', 'player_display_name', 'team',\n",
       "       'GP', 'position', 'season_type', 'completions', 'attempts',\n",
       "       'passing_yards', 'passing_tds', 'interceptions', 'sacks', 'sack_yards',\n",
       "       'sack_fumbles', 'sack_fumbles_lost', 'passing_air_yards',\n",
       "       'passing_yards_after_catch', 'passing_first_downs', 'passing_epa',\n",
       "       'passing_2pt_conversions', 'pacr', 'dakota', 'carries', 'rushing_yards',\n",
       "       'rushing_tds', 'rushing_fumbles', 'rushing_fumbles_lost',\n",
       "       'rushing_first_downs', 'rushing_epa', 'rushing_2pt_conversions',\n",
       "       'receptions', 'targets', 'receiving_yards', 'receiving_tds',\n",
       "       'receiving_fumbles', 'receiving_fumbles_lost', 'receiving_air_yards',\n",
       "       'receiving_yards_after_catch', 'receiving_first_downs', 'receiving_epa',\n",
       "       'receiving_2pt_conversions', 'racr', 'target_share', 'air_yards_share',\n",
       "       'wopr_x', 'special_teams_tds', 'fantasy_points', 'fantasy_points_ppr',\n",
       "       'games', 'tgt_sh', 'ay_sh', 'yac_sh', 'wopr_y', 'ry_sh', 'rtd_sh',\n",
       "       'rfd_sh', 'rtdfd_sh', 'dom', 'w8dom', 'yptmpa', 'ppr_sh', 'age',\n",
       "       'status', 'comp %', 'td:int', 'yards/attempts', 'yards/comp',\n",
       "       'yards/carry', 'passer rating'],\n",
       "      dtype='object')"
      ]
     },
     "execution_count": 1,
     "metadata": {},
     "output_type": "execute_result"
    }
   ],
   "source": [
    "import pandas as pd\n",
    "rb_data = pd.read_csv(\"progress position group data/rb_data.csv\")\n",
    "wrte_data = pd.read_csv(\"progress position group data/wrte_data.csv\")\n",
    "qb_data = pd.read_csv(\"progress position group data/qb_data.csv\")\n",
    "AVgrades = pd.read_csv(\"approximate value data/AVgrades.csv\")\n",
    "\n",
    "\n",
    "rb_data = rb_data.rename(columns={'recent_team': 'team'})\n",
    "wrte_data = wrte_data.rename(columns={'recent_team': 'team'})\n",
    "qb_data = qb_data.rename(columns={'recent_team': 'team'})\n",
    "AVgrades = AVgrades.rename(columns={'year': 'season'})\n",
    "\n",
    "qb_data.columns\n"
   ]
  },
  {
   "cell_type": "code",
   "execution_count": 2,
   "metadata": {},
   "outputs": [
    {
     "data": {
      "text/plain": [
       "Index(['player_id', 'season', 'player_display_name', 'team', 'GP', 'position',\n",
       "       'age', 'season_type', 'completions', 'attempts', 'passing_yards',\n",
       "       'passing_tds', 'interceptions', 'sacks', 'sack_fumbles_lost',\n",
       "       'passing_air_yards', 'passing_yards_after_catch', 'passing_first_downs',\n",
       "       'passing_2pt_conversions', 'carries', 'rushing_yards', 'rushing_tds',\n",
       "       'rushing_fumbles_lost', 'rushing_first_downs',\n",
       "       'rushing_2pt_conversions', 'fantasy_points', 'oline', 'qb', 'rb',\n",
       "       'wrte', 'dst'],\n",
       "      dtype='object')"
      ]
     },
     "execution_count": 2,
     "metadata": {},
     "output_type": "execute_result"
    }
   ],
   "source": [
    "import pandas as pd\n",
    "\n",
    "# Ensure the team and year columns are correctly formatted for merging (if necessary)\n",
    "qb_data['team'] = qb_data['team'].str.lower()  # Assuming team names need to be in lowercase\n",
    "qb_data['season'] = qb_data['season'].astype(int)  # Ensure the year is an integer\n",
    "\n",
    "AVgrades['team'] = AVgrades['team'].str.lower()  # Same assumption for AVgrades\n",
    "AVgrades['season'] = AVgrades['season'].astype(int)\n",
    "\n",
    "corrections = {\n",
    "    'ind': 'clt',  # Example: changing 'ind' to 'clt'\n",
    "    'ne': 'nwe',  # Example: changing 'oak' to 'rai' for Las Vegas Raiders\n",
    "    'tb': 'tam',  # Example: changing 'sdg' to 'lac' for Los Angeles Chargers\n",
    "    'no': 'nor',\n",
    "    'la': 'ram',\n",
    "    'ari': 'crd',\n",
    "    'gb': 'gnb',\n",
    "    'hou': 'htx',\n",
    "    'lv': 'rai',\n",
    "    'bal': 'rav',\n",
    "    'lac': 'sdg',\n",
    "    'kc': 'kan',\n",
    "    'ten': 'oti',\n",
    "    'sf': 'sfo'  # Example: changing 'stl' to 'lar' for Los Angeles Rams\n",
    "}\n",
    "\n",
    "qb_data['team'] = qb_data['team'].replace(corrections)\n",
    "qb_data\n",
    "\n",
    "qb_data = pd.merge(qb_data, AVgrades[['team','season', 'oline', 'qb', 'rb', 'wrte', 'dst']], on=['team', 'season'], how='left')\n",
    "qb_data = qb_data[['player_id', 'season', 'player_display_name', 'team',\n",
    "       'GP', 'position', 'age', 'season_type', 'completions', 'attempts',\n",
    "       'passing_yards', 'passing_tds', 'interceptions', 'sacks',\n",
    "       'sack_fumbles_lost', 'passing_air_yards',\n",
    "       'passing_yards_after_catch', 'passing_first_downs',\n",
    "       'passing_2pt_conversions','carries', 'rushing_yards',\n",
    "       'rushing_tds','rushing_fumbles_lost',\n",
    "       'rushing_first_downs','rushing_2pt_conversions','fantasy_points', 'oline', 'qb', 'rb', 'wrte', 'dst']]\n",
    "qb_data.to_csv(\"final position group data/final_qb_data.csv\")\n",
    "qb_data.columns\n"
   ]
  },
  {
   "cell_type": "code",
   "execution_count": 3,
   "metadata": {},
   "outputs": [
    {
     "data": {
      "text/plain": [
       "Index(['player_id', 'season', 'player_display_name', 'team', 'GP', 'position',\n",
       "       'age', 'season_type', 'carries', 'rushing_yards', 'rushing_tds',\n",
       "       'rushing_fumbles_lost', 'rushing_first_downs',\n",
       "       'rushing_2pt_conversions', 'receptions', 'targets', 'receiving_yards',\n",
       "       'receiving_tds', 'receiving_fumbles_lost', 'receiving_air_yards',\n",
       "       'receiving_yards_after_catch', 'receiving_first_downs',\n",
       "       'receiving_2pt_conversions', 'special_teams_tds', 'rrtd',\n",
       "       'fantasy_points', 'oline', 'qb', 'rb', 'wrte', 'dst'],\n",
       "      dtype='object')"
      ]
     },
     "execution_count": 3,
     "metadata": {},
     "output_type": "execute_result"
    }
   ],
   "source": [
    "import pandas as pd\n",
    "\n",
    "# Ensure the team and year columns are correctly formatted for merging (if necessary)\n",
    "rb_data['team'] = rb_data['team'].str.lower()  # Assuming team names need to be in lowercase\n",
    "rb_data['season'] = rb_data['season'].astype(int)  # Ensure the year is an integer\n",
    "\n",
    "AVgrades['team'] = AVgrades['team'].str.lower()  # Same assumption for AVgrades\n",
    "AVgrades['season'] = AVgrades['season'].astype(int)\n",
    "\n",
    "corrections = {\n",
    "    'ind': 'clt',  # Example: changing 'ind' to 'clt'\n",
    "    'ne': 'nwe',  # Example: changing 'oak' to 'rai' for Las Vegas Raiders\n",
    "    'tb': 'tam',  # Example: changing 'sdg' to 'lac' for Los Angeles Chargers\n",
    "    'no': 'nor',\n",
    "    'la': 'ram',\n",
    "    'ari': 'crd',\n",
    "    'gb': 'gnb',\n",
    "    'hou': 'htx',\n",
    "    'lv': 'rai',\n",
    "    'bal': 'rav',\n",
    "    'lac': 'sdg',\n",
    "    'kc': 'kan',\n",
    "    'ten': 'oti',\n",
    "    'sf': 'sfo'  # Example: changing 'stl' to 'lar' for Los Angeles Rams\n",
    "}\n",
    "\n",
    "rb_data['team'] = rb_data['team'].replace(corrections)\n",
    "rb_data\n",
    "\n",
    "rb_data = pd.merge(rb_data, AVgrades[['team','season', 'oline', 'qb', 'rb', 'wrte', 'dst']], on=['team', 'season'], how='left')\n",
    "rb_data = rb_data[['player_id', 'season', 'player_display_name', 'team',\n",
    "       'GP', 'position', 'age', 'season_type', 'carries', 'rushing_yards', 'rushing_tds',\n",
    "                        'rushing_fumbles_lost', 'rushing_first_downs',\n",
    "                        'rushing_2pt_conversions', 'receptions', 'targets',\n",
    "                        'receiving_yards', 'receiving_tds',\n",
    "                        'receiving_fumbles_lost', 'receiving_air_yards',\n",
    "                        'receiving_yards_after_catch', 'receiving_first_downs',\n",
    "                        'receiving_2pt_conversions','special_teams_tds',\n",
    "                        'rrtd', 'fantasy_points', 'oline', 'qb', 'rb', 'wrte', 'dst']]\n",
    "rb_data.to_csv(\"final position group data/final_rb_data.csv\")\n",
    "rb_data.columns"
   ]
  },
  {
   "cell_type": "code",
   "execution_count": 4,
   "metadata": {},
   "outputs": [
    {
     "data": {
      "text/plain": [
       "Index(['player_id', 'season', 'player_display_name', 'team', 'GP', 'position',\n",
       "       'age', 'season_type', 'carries', 'rushing_yards', 'rushing_tds',\n",
       "       'rushing_fumbles_lost', 'rushing_first_downs',\n",
       "       'rushing_2pt_conversions', 'receptions', 'targets', 'receiving_yards',\n",
       "       'receiving_tds', 'receiving_fumbles_lost', 'receiving_air_yards',\n",
       "       'receiving_yards_after_catch', 'receiving_first_downs',\n",
       "       'receiving_2pt_conversions', 'special_teams_tds', 'rrtd',\n",
       "       'fantasy_points', 'oline', 'qb', 'rb', 'wrte', 'dst'],\n",
       "      dtype='object')"
      ]
     },
     "execution_count": 4,
     "metadata": {},
     "output_type": "execute_result"
    }
   ],
   "source": [
    "import pandas as pd\n",
    "\n",
    "# Ensure the team and year columns are correctly formatted for merging (if necessary)\n",
    "wrte_data['team'] = wrte_data['team'].str.lower()  # Assuming team names need to be in lowercase\n",
    "wrte_data['season'] = wrte_data['season'].astype(int)  # Ensure the year is an integer\n",
    "\n",
    "AVgrades['team'] = AVgrades['team'].str.lower()  # Same assumption for AVgrades\n",
    "AVgrades['season'] = AVgrades['season'].astype(int)\n",
    "\n",
    "corrections = {\n",
    "    'ind': 'clt',  # Example: changing 'ind' to 'clt'\n",
    "    'ne': 'nwe',  # Example: changing 'oak' to 'rai' for Las Vegas Raiders\n",
    "    'tb': 'tam',  # Example: changing 'sdg' to 'lac' for Los Angeles Chargers\n",
    "    'no': 'nor',\n",
    "    'la': 'ram',\n",
    "    'ari': 'crd',\n",
    "    'gb': 'gnb',\n",
    "    'hou': 'htx',\n",
    "    'lv': 'rai',\n",
    "    'bal': 'rav',\n",
    "    'lac': 'sdg',\n",
    "    'kc': 'kan',\n",
    "    'ten': 'oti',\n",
    "    'sf': 'sfo'  # Example: changing 'stl' to 'lar' for Los Angeles Rams\n",
    "}\n",
    "\n",
    "wrte_data['team'] = wrte_data['team'].replace(corrections)\n",
    "wrte_data\n",
    "\n",
    "wrte_data = pd.merge(wrte_data, AVgrades[['team','season', 'oline', 'qb', 'rb', 'wrte', 'dst']], on=['team', 'season'], how='left')\n",
    "wrte_data = wrte_data[['player_id', 'season', 'player_display_name', 'team',\n",
    "       'GP', 'position', 'age', 'season_type', 'carries', 'rushing_yards', 'rushing_tds',\n",
    "                        'rushing_fumbles_lost', 'rushing_first_downs',\n",
    "                        'rushing_2pt_conversions', 'receptions', 'targets',\n",
    "                        'receiving_yards', 'receiving_tds',\n",
    "                        'receiving_fumbles_lost', 'receiving_air_yards',\n",
    "                        'receiving_yards_after_catch', 'receiving_first_downs',\n",
    "                        'receiving_2pt_conversions','special_teams_tds',\n",
    "                        'rrtd', 'fantasy_points', 'oline', 'qb', 'rb', 'wrte', 'dst']]\n",
    "wrte_data.to_csv(\"final position group data/final_wrte_data.csv\")\n",
    "wrte_data.columns"
   ]
  }
 ],
 "metadata": {
  "kernelspec": {
   "display_name": "Python 3",
   "language": "python",
   "name": "python3"
  },
  "language_info": {
   "codemirror_mode": {
    "name": "ipython",
    "version": 3
   },
   "file_extension": ".py",
   "mimetype": "text/x-python",
   "name": "python",
   "nbconvert_exporter": "python",
   "pygments_lexer": "ipython3",
   "version": "3.10.9"
  }
 },
 "nbformat": 4,
 "nbformat_minor": 2
}
